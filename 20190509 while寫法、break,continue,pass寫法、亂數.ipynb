{
 "cells": [
  {
   "cell_type": "markdown",
   "metadata": {},
   "source": [
    "# while迴圈\n",
    "#### 1+2+3+....+10的總和"
   ]
  },
  {
   "cell_type": "code",
   "execution_count": 1,
   "metadata": {},
   "outputs": [
    {
     "name": "stdout",
     "output_type": "stream",
     "text": [
      "1+2+3+...+10=  55\n"
     ]
    }
   ],
   "source": [
    "sum=0\n",
    "co=1\n",
    "while co <=10:\n",
    "    sum+=co #sum=sum+co\n",
    "    co+=1 #co=co+1\n",
    "print('1+2+3+...+10= ',sum)"
   ]
  },
  {
   "cell_type": "markdown",
   "metadata": {},
   "source": [
    "# 銀行利息範例"
   ]
  },
  {
   "cell_type": "code",
   "execution_count": 2,
   "metadata": {},
   "outputs": [
    {
     "name": "stdout",
     "output_type": "stream",
     "text": [
      "67 年後，存款金額會加倍\n"
     ]
    }
   ],
   "source": [
    "x=10000\n",
    "y=0\n",
    "while x<20000:\n",
    "    y+=1\n",
    "    x*=1.0104\n",
    "print(str(y),'年後，存款金額會加倍')"
   ]
  },
  {
   "cell_type": "markdown",
   "metadata": {},
   "source": [
    "# 帳號密碼程式"
   ]
  },
  {
   "cell_type": "code",
   "execution_count": 4,
   "metadata": {},
   "outputs": [
    {
     "name": "stdout",
     "output_type": "stream",
     "text": [
      "請輸入帳號：123\n",
      "請輸入密碼：456\n",
      "歡迎登入\n"
     ]
    }
   ],
   "source": [
    "id='123'\n",
    "pwd='456'\n",
    "while True:\n",
    "    x=input('請輸入帳號：')\n",
    "    y=input('請輸入密碼：')\n",
    "    if(x==id and y==pwd):\n",
    "        print('歡迎登入')\n",
    "        break\n",
    "    else:\n",
    "        print('輸入錯誤')"
   ]
  },
  {
   "cell_type": "markdown",
   "metadata": {},
   "source": [
    "# break,continue,pass 範例\n",
    "#### pass :不做任何事情，只起到佔位的作用\n",
    "\n",
    "#### continue: 跳出本次循環\n",
    "\n",
    "#### break：結束循環"
   ]
  },
  {
   "cell_type": "code",
   "execution_count": 8,
   "metadata": {},
   "outputs": [
    {
     "name": "stdout",
     "output_type": "stream",
     "text": [
      "C#\n",
      "Pyton\n"
     ]
    }
   ],
   "source": [
    "x=['C#','Pyton','Java','C++']\n",
    "for i in x:\n",
    "    if i=='Java':\n",
    "        break\n",
    "    else:\n",
    "        print(i)"
   ]
  },
  {
   "cell_type": "code",
   "execution_count": 9,
   "metadata": {},
   "outputs": [
    {
     "name": "stdout",
     "output_type": "stream",
     "text": [
      "C#\n",
      "Pyton\n",
      "C++\n"
     ]
    }
   ],
   "source": [
    "x=['C#','Pyton','Java','C++']\n",
    "for i in x:\n",
    "    if i=='Java':\n",
    "        continue\n",
    "    else:\n",
    "        print(i)"
   ]
  },
  {
   "cell_type": "code",
   "execution_count": 7,
   "metadata": {},
   "outputs": [
    {
     "name": "stdout",
     "output_type": "stream",
     "text": [
      "C#\n",
      "Pyton\n",
      "C++\n"
     ]
    }
   ],
   "source": [
    "x=['C#','Pyton','Java','C++']\n",
    "for i in x:\n",
    "    if i=='Java':\n",
    "        pass\n",
    "    else:\n",
    "        print(i)"
   ]
  },
  {
   "cell_type": "code",
   "execution_count": 11,
   "metadata": {},
   "outputs": [
    {
     "name": "stdout",
     "output_type": "stream",
     "text": [
      "0.4678032322333585\n",
      "0.19085555020077594\n",
      "0.5505688683277116\n",
      "0.10390999229430042\n",
      "0.34099121650975994\n",
      "0.4244546629811735\n",
      "0.4500565754690453\n",
      "0.6676204243869143\n",
      "0.022480280692374843\n",
      "0.3349001135114056\n"
     ]
    }
   ],
   "source": [
    "import random\n",
    "for i in range(0,10):\n",
    "    print(random.random())"
   ]
  },
  {
   "cell_type": "code",
   "execution_count": 12,
   "metadata": {},
   "outputs": [
    {
     "name": "stdout",
     "output_type": "stream",
     "text": [
      "2\n",
      "1\n",
      "8\n",
      "9\n",
      "5\n",
      "5\n",
      "2\n",
      "7\n",
      "1\n",
      "2\n"
     ]
    }
   ],
   "source": [
    "for i in range(0,10):\n",
    "    print(random.randint(1,9))"
   ]
  },
  {
   "cell_type": "code",
   "execution_count": null,
   "metadata": {},
   "outputs": [],
   "source": [
    "import random\n",
    "n=random.randint(1,99)\n",
    "while True:\n",
    "    g=input('請輸入1-99的數字(q離開):')\n",
    "    if g=='q':\n",
    "        print('離開遊戲','正確解答',n)\n",
    "        break\n",
    "    else:\n",
    "        if n==int(g):\n",
    "            print('恭喜,答對了!!')\n",
    "            break\n",
    "        else:\n",
    "            print('答錯了!')"
   ]
  },
  {
   "cell_type": "code",
   "execution_count": null,
   "metadata": {},
   "outputs": [],
   "source": []
  }
 ],
 "metadata": {
  "kernelspec": {
   "display_name": "Python 3",
   "language": "python",
   "name": "python3"
  },
  "language_info": {
   "codemirror_mode": {
    "name": "ipython",
    "version": 3
   },
   "file_extension": ".py",
   "mimetype": "text/x-python",
   "name": "python",
   "nbconvert_exporter": "python",
   "pygments_lexer": "ipython3",
   "version": "3.7.1"
  }
 },
 "nbformat": 4,
 "nbformat_minor": 2
}
