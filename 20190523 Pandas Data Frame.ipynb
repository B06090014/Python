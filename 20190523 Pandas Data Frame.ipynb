{
 "cells": [
  {
   "cell_type": "markdown",
   "metadata": {},
   "source": [
    "# Pandas Data Frame"
   ]
  },
  {
   "cell_type": "code",
   "execution_count": 2,
   "metadata": {},
   "outputs": [
    {
     "data": {
      "text/html": [
       "<div>\n",
       "<style scoped>\n",
       "    .dataframe tbody tr th:only-of-type {\n",
       "        vertical-align: middle;\n",
       "    }\n",
       "\n",
       "    .dataframe tbody tr th {\n",
       "        vertical-align: top;\n",
       "    }\n",
       "\n",
       "    .dataframe thead th {\n",
       "        text-align: right;\n",
       "    }\n",
       "</style>\n",
       "<table border=\"1\" class=\"dataframe\">\n",
       "  <thead>\n",
       "    <tr style=\"text-align: right;\">\n",
       "      <th></th>\n",
       "      <th>gr</th>\n",
       "      <th>ir</th>\n",
       "    </tr>\n",
       "  </thead>\n",
       "  <tbody>\n",
       "    <tr>\n",
       "      <th>0</th>\n",
       "      <td>Mod</td>\n",
       "      <td>59</td>\n",
       "    </tr>\n",
       "    <tr>\n",
       "      <th>1</th>\n",
       "      <td>Dev</td>\n",
       "      <td>9</td>\n",
       "    </tr>\n",
       "    <tr>\n",
       "      <th>2</th>\n",
       "      <td>Cloud</td>\n",
       "      <td>19</td>\n",
       "    </tr>\n",
       "    <tr>\n",
       "      <th>3</th>\n",
       "      <td>Big</td>\n",
       "      <td>14</td>\n",
       "    </tr>\n",
       "    <tr>\n",
       "      <th>4</th>\n",
       "      <td>Sec</td>\n",
       "      <td>6</td>\n",
       "    </tr>\n",
       "    <tr>\n",
       "      <th>5</th>\n",
       "      <td>自我放棄組</td>\n",
       "      <td>77</td>\n",
       "    </tr>\n",
       "  </tbody>\n",
       "</table>\n",
       "</div>"
      ],
      "text/plain": [
       "      gr  ir\n",
       "0    Mod  59\n",
       "1    Dev   9\n",
       "2  Cloud  19\n",
       "3    Big  14\n",
       "4    Sec   6\n",
       "5  自我放棄組  77"
      ]
     },
     "execution_count": 2,
     "metadata": {},
     "output_type": "execute_result"
    }
   ],
   "source": [
    "import pandas as pd\n",
    "g=[\"Mod\",\"Dev\",\"Cloud\",\"Big\",\"Sec\",\"自我放棄組\"]\n",
    "ir=[59,9,19,14,6,77]\n",
    "ir_dict={\n",
    "    \"gr\":g,\n",
    "    \"ir\":ir\n",
    "}\n",
    "ir_df=pd.DataFrame(ir_dict)\n",
    "ir_df"
   ]
  },
  {
   "cell_type": "code",
   "execution_count": 3,
   "metadata": {},
   "outputs": [
    {
     "name": "stdout",
     "output_type": "stream",
     "text": [
      "2\n",
      "(6, 2)\n",
      "gr    object\n",
      "ir     int64\n",
      "dtype: object\n"
     ]
    }
   ],
   "source": [
    "print(ir_df.ndim)\n",
    "print(ir_df.shape)\n",
    "print(ir_df.dtypes)"
   ]
  },
  {
   "cell_type": "code",
   "execution_count": 4,
   "metadata": {},
   "outputs": [
    {
     "name": "stdout",
     "output_type": "stream",
     "text": [
      "gr    ModDevCloudBigSec自我放棄組\n",
      "ir                       184\n",
      "dtype: object\n",
      "184\n",
      "ir    30.666667\n",
      "dtype: float64\n",
      "<bound method DataFrame.median of       gr  ir\n",
      "0    Mod  59\n",
      "1    Dev   9\n",
      "2  Cloud  19\n",
      "3    Big  14\n",
      "4    Sec   6\n",
      "5  自我放棄組  77>\n",
      "              ir\n",
      "count   6.000000\n",
      "mean   30.666667\n",
      "std    29.803803\n",
      "min     6.000000\n",
      "25%    10.250000\n",
      "50%    16.500000\n",
      "75%    49.000000\n",
      "max    77.000000\n"
     ]
    }
   ],
   "source": [
    "print(ir_df.sum())\n",
    "print(ir_df.ir.sum())\n",
    "print(ir_df.mean())\n",
    "print(ir_df.median)\n",
    "print(ir_df.describe())"
   ]
  },
  {
   "cell_type": "code",
   "execution_count": 8,
   "metadata": {},
   "outputs": [
    {
     "name": "stdout",
     "output_type": "stream",
     "text": [
      "0    False\n",
      "1    False\n",
      "2     True\n",
      "3    False\n",
      "4    False\n",
      "5    False\n",
      "6    False\n",
      "Name: gr, dtype: bool\n",
      "0     True\n",
      "1     True\n",
      "2     True\n",
      "3     True\n",
      "4     True\n",
      "5     True\n",
      "6    False\n",
      "Name: ir, dtype: bool\n"
     ]
    }
   ],
   "source": [
    "import pandas as pd\n",
    "import numpy as np\n",
    "g=[\"Mod\",\"Dev\",np.nan,\"Cloud\",\"Big\",\"Sec\",\"自我放棄組\"]\n",
    "ir=[59,9,19,14,6,77,np.nan]\n",
    "ir_dict={\n",
    "    \"gr\":g,\n",
    "    \"ir\":ir\n",
    "}\n",
    "ir_df=pd.DataFrame(ir_dict)\n",
    "print(ir_df.loc[:,\"gr\"].isnull()) #判斷那些組的組名是遺失值\n",
    "print(ir_df.loc[:,\"ir\"].notnull()) #判斷哪些組的鐵人數不是遺失值"
   ]
  },
  {
   "cell_type": "code",
   "execution_count": 15,
   "metadata": {},
   "outputs": [
    {
     "name": "stdout",
     "output_type": "stream",
     "text": [
      "      gr    ir\n",
      "0    Mod  59.0\n",
      "1    Dev   9.0\n",
      "3  Cloud  14.0\n",
      "4    Big   6.0\n",
      "5    Sec  77.0\n",
      "------------\n",
      "      gr    ir\n",
      "0    Mod  59.0\n",
      "1    Dev   9.0\n",
      "2      0  19.0\n",
      "3  Cloud  14.0\n",
      "4    Big   6.0\n",
      "5    Sec  77.0\n",
      "6  自我放棄組   0.0\n",
      "------------\n",
      "0    59.000000\n",
      "1     9.000000\n",
      "2    19.000000\n",
      "3    14.000000\n",
      "4     6.000000\n",
      "5    77.000000\n",
      "6    30.666667\n",
      "Name: ir, dtype: float64\n"
     ]
    }
   ],
   "source": [
    "a=ir_df.dropna()\n",
    "b=ir_df.fillna(0)\n",
    "c=ir_df.ir.fillna(ir_df.ir.mean())\n",
    "print(a)\n",
    "print(\"------------\")\n",
    "print(b)\n",
    "print(\"------------\")\n",
    "print(c)"
   ]
  },
  {
   "cell_type": "code",
   "execution_count": 16,
   "metadata": {},
   "outputs": [
    {
     "name": "stdout",
     "output_type": "stream",
     "text": [
      "      gr    ir\n",
      "0    Mod  59.0\n",
      "1    Dev   9.0\n",
      "2      0  19.0\n",
      "3  Cloud  14.0\n",
      "4    Big   6.0\n",
      "5    Sec  77.0\n",
      "6  自我放棄組   0.0\n"
     ]
    }
   ],
   "source": [
    "b=ir_df.fillna(0)\n",
    "print(b)"
   ]
  },
  {
   "cell_type": "code",
   "execution_count": 21,
   "metadata": {},
   "outputs": [
    {
     "data": {
      "text/html": [
       "<div>\n",
       "<style scoped>\n",
       "    .dataframe tbody tr th:only-of-type {\n",
       "        vertical-align: middle;\n",
       "    }\n",
       "\n",
       "    .dataframe tbody tr th {\n",
       "        vertical-align: top;\n",
       "    }\n",
       "\n",
       "    .dataframe thead th {\n",
       "        text-align: right;\n",
       "    }\n",
       "</style>\n",
       "<table border=\"1\" class=\"dataframe\">\n",
       "  <thead>\n",
       "    <tr style=\"text-align: right;\">\n",
       "      <th></th>\n",
       "      <th>ir</th>\n",
       "    </tr>\n",
       "  </thead>\n",
       "  <tbody>\n",
       "    <tr>\n",
       "      <th>Big</th>\n",
       "      <td>14</td>\n",
       "    </tr>\n",
       "    <tr>\n",
       "      <th>Cloud</th>\n",
       "      <td>19</td>\n",
       "    </tr>\n",
       "    <tr>\n",
       "      <th>Dev</th>\n",
       "      <td>9</td>\n",
       "    </tr>\n",
       "    <tr>\n",
       "      <th>Mod</th>\n",
       "      <td>59</td>\n",
       "    </tr>\n",
       "    <tr>\n",
       "      <th>Sec</th>\n",
       "      <td>6</td>\n",
       "    </tr>\n",
       "    <tr>\n",
       "      <th>自我放棄組</th>\n",
       "      <td>77</td>\n",
       "    </tr>\n",
       "  </tbody>\n",
       "</table>\n",
       "</div>"
      ],
      "text/plain": [
       "       ir\n",
       "Big    14\n",
       "Cloud  19\n",
       "Dev     9\n",
       "Mod    59\n",
       "Sec     6\n",
       "自我放棄組  77"
      ]
     },
     "execution_count": 21,
     "metadata": {},
     "output_type": "execute_result"
    }
   ],
   "source": [
    "import pandas as pd\n",
    "g=[\"Mod\",\"Dev\",\"Cloud\",\"Big\",\"Sec\",\"自我放棄組\"]\n",
    "ir=[59,9,19,14,6,77]\n",
    "#建立data frome\n",
    "ir_df=pd.DataFrame(ir,columns=[\"ir\"],index=g)\n",
    "ir_df.sort_index()"
   ]
  },
  {
   "cell_type": "code",
   "execution_count": 22,
   "metadata": {},
   "outputs": [
    {
     "data": {
      "text/html": [
       "<div>\n",
       "<style scoped>\n",
       "    .dataframe tbody tr th:only-of-type {\n",
       "        vertical-align: middle;\n",
       "    }\n",
       "\n",
       "    .dataframe tbody tr th {\n",
       "        vertical-align: top;\n",
       "    }\n",
       "\n",
       "    .dataframe thead th {\n",
       "        text-align: right;\n",
       "    }\n",
       "</style>\n",
       "<table border=\"1\" class=\"dataframe\">\n",
       "  <thead>\n",
       "    <tr style=\"text-align: right;\">\n",
       "      <th></th>\n",
       "      <th>ir</th>\n",
       "    </tr>\n",
       "  </thead>\n",
       "  <tbody>\n",
       "    <tr>\n",
       "      <th>Sec</th>\n",
       "      <td>6</td>\n",
       "    </tr>\n",
       "    <tr>\n",
       "      <th>Dev</th>\n",
       "      <td>9</td>\n",
       "    </tr>\n",
       "    <tr>\n",
       "      <th>Big</th>\n",
       "      <td>14</td>\n",
       "    </tr>\n",
       "    <tr>\n",
       "      <th>Cloud</th>\n",
       "      <td>19</td>\n",
       "    </tr>\n",
       "    <tr>\n",
       "      <th>Mod</th>\n",
       "      <td>59</td>\n",
       "    </tr>\n",
       "    <tr>\n",
       "      <th>自我放棄組</th>\n",
       "      <td>77</td>\n",
       "    </tr>\n",
       "  </tbody>\n",
       "</table>\n",
       "</div>"
      ],
      "text/plain": [
       "       ir\n",
       "Sec     6\n",
       "Dev     9\n",
       "Big    14\n",
       "Cloud  19\n",
       "Mod    59\n",
       "自我放棄組  77"
      ]
     },
     "execution_count": 22,
     "metadata": {},
     "output_type": "execute_result"
    }
   ],
   "source": [
    "ir_df.sort_values(by=\"ir\")"
   ]
  },
  {
   "cell_type": "code",
   "execution_count": null,
   "metadata": {},
   "outputs": [],
   "source": []
  }
 ],
 "metadata": {
  "kernelspec": {
   "display_name": "Python 3",
   "language": "python",
   "name": "python3"
  },
  "language_info": {
   "codemirror_mode": {
    "name": "ipython",
    "version": 3
   },
   "file_extension": ".py",
   "mimetype": "text/x-python",
   "name": "python",
   "nbconvert_exporter": "python",
   "pygments_lexer": "ipython3",
   "version": "3.7.1"
  }
 },
 "nbformat": 4,
 "nbformat_minor": 2
}
