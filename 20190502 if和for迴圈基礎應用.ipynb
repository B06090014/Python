{
 "cells": [
  {
   "cell_type": "markdown",
   "metadata": {},
   "source": [
    "# 第三章－流程控制"
   ]
  },
  {
   "cell_type": "code",
   "execution_count": 2,
   "metadata": {},
   "outputs": [
    {
     "name": "stdout",
     "output_type": "stream",
     "text": [
      "請輸入攝氏溫度：20\n",
      "華氏溫度為：68.0\n"
     ]
    }
   ],
   "source": [
    "cel=float(input('請輸入攝氏溫度：'))\n",
    "fah=(9/5)*cel+32\n",
    "print('華氏溫度為：'+str(fah))"
   ]
  },
  {
   "cell_type": "code",
   "execution_count": 4,
   "metadata": {},
   "outputs": [
    {
     "name": "stdout",
     "output_type": "stream",
     "text": [
      "樣本= [5, 8, 9, 6, 4, 1, 2, 3, 5, 6]\n",
      "平均數= 4.9\n",
      "最大數= 9\n",
      "最小數= 1\n",
      "變異數= 6.32\n",
      "標準差= 2.51\n"
     ]
    }
   ],
   "source": [
    "import statistics as st\n",
    "samp=[5,8,9,6,4,1,2,3,5,6]\n",
    "print('樣本=',samp)\n",
    "print('平均數=',st.mean(samp))\n",
    "print('最大數=',max(samp))\n",
    "print('最小數=',min(samp))\n",
    "print('變異數=',round(st.variance(samp),2))\n",
    "print('標準差=',round(st.stdev(samp),2))"
   ]
  },
  {
   "cell_type": "markdown",
   "metadata": {},
   "source": [
    "# if\n",
    "#### python中if條件後要加個\":\"(if a<b\":\")，下一行要有縮排才會顯示結果。\n",
    "#### elif是C#、JAVA的else if。"
   ]
  },
  {
   "cell_type": "code",
   "execution_count": 10,
   "metadata": {},
   "outputs": [
    {
     "name": "stdout",
     "output_type": "stream",
     "text": [
      "請輸入a：20\n",
      "請輸入b：20\n",
      "兩者相等\n"
     ]
    }
   ],
   "source": [
    "a=int(input('請輸入a：'))\n",
    "b=int(input('請輸入b：'))\n",
    "if a<b:\n",
    "    print('b是比較大的數值') \n",
    "elif a>b:\n",
    "    print('a是比較小的數值')\n",
    "else:\n",
    "    print('兩者相等')"
   ]
  },
  {
   "cell_type": "markdown",
   "metadata": {},
   "source": [
    "# for\n",
    "#### range(1,11)=1~10,不包含11"
   ]
  },
  {
   "cell_type": "code",
   "execution_count": 11,
   "metadata": {},
   "outputs": [
    {
     "name": "stdout",
     "output_type": "stream",
     "text": [
      "總和： 55\n"
     ]
    }
   ],
   "source": [
    "sum=0\n",
    "for i in range(1,11):\n",
    "    sum+=i\n",
    "print(\"總和：\",sum)"
   ]
  },
  {
   "cell_type": "code",
   "execution_count": 13,
   "metadata": {},
   "outputs": [
    {
     "name": "stdout",
     "output_type": "stream",
     "text": [
      "總和： 49\n"
     ]
    }
   ],
   "source": [
    "smp=[5,8,9,6,4,1,2,3,5,6]\n",
    "sum=0\n",
    "for i in smp:\n",
    "    sum+=i\n",
    "print('總和：',sum)"
   ]
  },
  {
   "cell_type": "markdown",
   "metadata": {},
   "source": [
    "# 隨堂練習\n",
    "雞兔同籠求解。若共有35顆頭、94顆腳，問共有幾隻雞？幾隻兔？"
   ]
  },
  {
   "cell_type": "code",
   "execution_count": 15,
   "metadata": {},
   "outputs": [
    {
     "name": "stdout",
     "output_type": "stream",
     "text": [
      "兔子有 12 隻\n",
      "雞有 23 隻\n"
     ]
    }
   ],
   "source": [
    "head=35\n",
    "leg=94\n",
    "for ra in range(0,head+1):\n",
    "    chi=head-ra\n",
    "    if((ra*4+chi*2)==94):\n",
    "        print('兔子有',ra,'隻')\n",
    "        print('雞有',chi,'隻')"
   ]
  },
  {
   "cell_type": "code",
   "execution_count": 16,
   "metadata": {},
   "outputs": [
    {
     "name": "stdout",
     "output_type": "stream",
     "text": [
      "i\n",
      " \n",
      "l\n",
      "o\n",
      "v\n",
      "e\n",
      " \n",
      "i\n",
      "v\n"
     ]
    }
   ],
   "source": [
    "m='i love iv'\n",
    "for character in m:\n",
    "    print(character)"
   ]
  },
  {
   "cell_type": "code",
   "execution_count": null,
   "metadata": {},
   "outputs": [],
   "source": []
  }
 ],
 "metadata": {
  "kernelspec": {
   "display_name": "Python 3",
   "language": "python",
   "name": "python3"
  },
  "language_info": {
   "codemirror_mode": {
    "name": "ipython",
    "version": 3
   },
   "file_extension": ".py",
   "mimetype": "text/x-python",
   "name": "python",
   "nbconvert_exporter": "python",
   "pygments_lexer": "ipython3",
   "version": "3.7.1"
  }
 },
 "nbformat": 4,
 "nbformat_minor": 2
}
